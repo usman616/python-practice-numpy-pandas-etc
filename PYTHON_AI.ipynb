{
  "nbformat": 4,
  "nbformat_minor": 0,
  "metadata": {
    "colab": {
      "provenance": []
    },
    "kernelspec": {
      "name": "python3",
      "display_name": "Python 3"
    },
    "language_info": {
      "name": "python"
    }
  },
  "cells": [
    {
      "cell_type": "code",
      "execution_count": null,
      "metadata": {
        "colab": {
          "base_uri": "https://localhost:8080/"
        },
        "id": "dd4GKRDFy_3o",
        "outputId": "9519f397-5093-43b2-f79b-3e13782482b7"
      },
      "outputs": [
        {
          "output_type": "stream",
          "name": "stdout",
          "text": [
            "6\n"
          ]
        }
      ],
      "source": [
        " #PYTHON 2\n",
        " \n",
        "#print \"AsAD\"    python2\n",
        "# raw_input('What is your name?')\n",
        "\n",
        "\n",
        "\n",
        "#PYTHON 3\n",
        "\n",
        "# print(\"hello world\")\n",
        "# input(\"ENTER YOUR NAME\")\n",
        "\n",
        "\n",
        "\n",
        "# x=1\n",
        "# print(x)\n",
        "# x=x+1\n",
        "# print(x)\n",
        "\n",
        "\n",
        "a=1\n",
        "\n",
        "a=a+a+a+3*(a)\n",
        "print(a)\n"
      ]
    },
    {
      "cell_type": "code",
      "source": [
        "class Node:\n",
        "    def __init__(self, data):\n",
        "        self.data = data\n",
        "        self.left = None\n",
        "        self.right = None\n",
        "\n",
        "def dfs(node):\n",
        "    if node is None:\n",
        "        return\n",
        "    print(node.data)\n",
        "    dfs(node.left)\n",
        "    dfs(node.right)\n",
        "\n",
        "\n",
        "# Create the binary tree\n",
        "root = Node(1)\n",
        "root.left = Node(2)\n",
        "root.right = Node(3)\n",
        "root.left.left = Node(4)\n",
        "root.left.right = Node(5)\n",
        "root.right.left = Node(6)\n",
        "root.right.right = Node(7)\n",
        "\n",
        "# Perform depth-first search starting from the root\n",
        "dfs(root)\n"
      ],
      "metadata": {
        "colab": {
          "base_uri": "https://localhost:8080/"
        },
        "id": "S4ec6LzLUnek",
        "outputId": "da874d77-b0ef-46a6-c76f-c3fdfa1ddfa4"
      },
      "execution_count": null,
      "outputs": [
        {
          "output_type": "stream",
          "name": "stdout",
          "text": [
            "1\n",
            "3\n",
            "7\n",
            "6\n",
            "2\n",
            "5\n",
            "4\n"
          ]
        }
      ]
    },
    {
      "cell_type": "code",
      "source": [
        "import heapq\n",
        "\n",
        "def get_state_hash(state):\n",
        "    return ''.join(sorted([''.join(sorted(str(s))) for s in state]))\n",
        "def goal_test(state):\n",
        "    return len(state[0]) == 0 and len(state[1]) == 4\n",
        "def heuristic(state):\n",
        "    left_bank = state[0]\n",
        "    if len(left_bank) < 2:\n",
        "        return 0\n",
        "    else:\n",
        "        return max(left_bank[:-1])\n",
        "    \n",
        "def get_actions(state):\n",
        "    left_bank = state[0]\n",
        "    if len(left_bank) < 2:\n",
        "        return []\n",
        "    actions = []\n",
        "    for i in range(len(left_bank)):\n",
        "        for j in range(i+1, len(left_bank)):\n",
        "            tourists = [left_bank[i], left_bank[j]]\n",
        "            actions.append(('AB', tourists))\n",
        "    return actions\n",
        "\n",
        "def successor_fn(state, action):\n",
        "    left_bank, right_bank = state\n",
        "    tourists = action[1]\n",
        "    new_left_bank = [t for t in left_bank if t not in tourists]\n",
        "    new_right_bank = sorted(right_bank + tourists)\n",
        "    new_state = (new_left_bank, new_right_bank)\n",
        "    step_cost = max(tourists)\n",
        "    return new_state, action[0], step_cost\n",
        "\n",
        "def a_star_search(start_state, heuristic_fn, successor_fn, goal_fn):\n",
        "    visited_states = set()\n",
        "    frontier = [(0, start_state, [])]\n",
        "    while frontier:\n",
        "        _, state, actions = heapq.heappop(frontier)\n",
        "        if goal_fn(state):\n",
        "            return actions\n",
        "        if get_state_hash(state) in visited_states:\n",
        "            continue\n",
        "        visited_states.add(get_state_hash(state))\n",
        "        for action in get_actions(state):\n",
        "            new_state, action_type, step_cost = successor_fn(state, action)\n",
        "            new_actions = actions + [(action_type, tourists) for tourists in action[1]]\n",
        "            f = len(new_actions) + heuristic_fn(new_state)\n",
        "            heapq.heappush(frontier, (f, new_state, new_actions))\n",
        "    return None\n",
        "\n",
        "times = []\n",
        "for i in range(4):\n",
        "    time = int(input(f\"Enter time taken by tourist {i+1}: \"))\n",
        "    times.append(time)\n",
        "start_state = (sorted(times), [])\n",
        "\n",
        "actions = a_star_search(start_state, heuristic, successor_fn, goal_test)\n",
        "\n",
        "if actions is None:\n",
        " print(\"No solution found.\")\n",
        "else:\n",
        " total_time = sum([step_cost for _, step_cost in actions])\n",
        " print(f\"Actions: {actions}\")\n",
        " print(f\"Total time taken: {total_time}\")"
      ],
      "metadata": {
        "colab": {
          "base_uri": "https://localhost:8080/"
        },
        "id": "N81ooEf0Xvht",
        "outputId": "36eadebb-01b8-4467-b9ee-c651be00a01e"
      },
      "execution_count": null,
      "outputs": [
        {
          "output_type": "stream",
          "name": "stdout",
          "text": [
            "Enter time taken by tourist 1: 12\n",
            "Enter time taken by tourist 2: 2\n",
            "Enter time taken by tourist 3: 3\n",
            "Enter time taken by tourist 4: 1\n",
            "Actions: [('AB', 2), ('AB', 3), ('AB', 1), ('AB', 12)]\n",
            "Total time taken: 18\n"
          ]
        }
      ]
    },
    {
      "cell_type": "code",
      "source": [
        "class Graph:\n",
        "    def _init_(self, nodes=None, edges=None):\n",
        "        self.nodes, self.adj = [], {}\n",
        "        if nodes != None:\n",
        "            self.add_nodes_from(nodes)\n",
        "        if edges != None:\n",
        "            self.add_edges_from(edges)\n",
        "            \n",
        "    def length(self):\n",
        "        return len(self.nodes)\n",
        "\n",
        "    def traverse(self):\n",
        "        return 'V: %s\\nE: %s' % (self.nodes, self.adj)\n",
        "\n",
        "    def add_node(self, n):\n",
        "        if n not in self.nodes:\n",
        "            self.nodes.append\n",
        "            self.adj[n] = []\n",
        "            \n",
        "    def add_edge(self, u, v): # undirected unweighted graph\n",
        "        self.adj[u] = self.adj.get(u, []) + [v]\n",
        "        self.adj[v] = self.adj.get(v, []) + [u]\n",
        "        \n",
        "    def number_of_nodes(self):\n",
        "        return len(self.nodes)\n",
        "    \n",
        "    def number_of_edges(self):\n",
        "        return sum(len(l) for _, l in self.adj.items()) // 2\n",
        "    \n",
        "class DGraph(Graph):\n",
        "    def add_edge(self, u, v):\n",
        "        self.adj[u] = self.adj.get(u, []) + [v]\n",
        "        \n",
        "    def A_star(self, start, goal,f=0):\n",
        "        adjacent = self.adj[start]\n",
        "        if start == goal:\n",
        "            return f\n",
        "        minimum = []\n",
        "        for i in range(0, len(adjacent)):\n",
        "            minimum.append(hur(adjacent[i]))\n",
        "            smallest = minimum.index(min(minimum))\n",
        "        f = f + minimum[smallest] + 1\n",
        "        p.append(adjacent[smallest])\n",
        "        return self.A_star(adjacent[smallest], 'ABC',f)\n",
        "\n",
        "\n",
        "class WGraph(Graph):\n",
        "    def init(self, nodes=None, edges=None):\n",
        "        self.nodes, self.adj, self.weight = [], {}, {}\n",
        "        if nodes != None:\n",
        "            self.add_nodes_from(nodes)\n",
        "        if edges != None:\n",
        "            self.add_edges_from(edges)\n",
        "            \n",
        "    def add_edge(self, u, v, w): # undirected weighted graph\n",
        "        self.adj[u] = self.adj.get(u, []) + [v]\n",
        "        self.adj[v] = self.adj.get(v, []) + [u]\n",
        "        self.weight[(u,v)] = w\n",
        "        self.weight[(v,u)] = w\n",
        "        \n",
        "    def get_weight(self, u, v):\n",
        "        return self.weight[(u,v)]\n",
        "    \n",
        "class DWGraph(WGraph):\n",
        "    def add_edge(self, u, v, w):\n",
        "        self.adj[u] = self.adj.get(u, []) + [v]\n",
        "        self.weight[(u,v)] = w\n",
        "        \n",
        "    def find_path(self, start, end, path=[], cost=0):\n",
        "        pass\n",
        "\n",
        "p=[]\n",
        "def hur(ar):\n",
        "    goalstate='ABC'\n",
        "    hc=0\n",
        "    for x in range (0,len(ar)):\n",
        "        if ar[x] is not goalstate[x]:\n",
        "            hc=hc+1\n",
        "    return hc\n",
        "G=DGraph()\n",
        "G.add_node('ACB')\n",
        "G.add_node('aCB')\n",
        "G.add_node('BAC')\n",
        "G.add_node('CBA')\n",
        "G.add_node('BCA')\n",
        "G.add_node('CAb')\n",
        "G.add_node('abC')\n",
        "G.add_node('aBC')\n",
        "G.add_node('ABC')\n",
        "G.add_node('CAB')\n",
        "G.add_node('ABc')\n",
        "G.add_node('bAC')\n",
        "G.add_node('BAC')\n",
        "G.add_edge('ACB', 'aCB')\n",
        "G.add_edge('BAc', 'CBA')\n",
        "G.add_edge('aCB', 'CAb')\n",
        "G.add_edge('aCB', 'abC')\n",
        "G.add_edge('BAc', 'abC')\n",
        "G.add_edge('BAc', 'aBC')\n",
        "G.add_edge('BCA', 'CAb')\n",
        "G.add_edge('CAb', 'abC')\n",
        "G.add_edge('abC', 'aBC')\n",
        "G.add_edge('aBC', 'ABC')\n",
        "G.add_edge('abC', 'ABc')\n",
        "G.add_edge('abC', 'bAC')\n",
        "G.add_edge('CAB', 'ABc')\n",
        "G.add_edge('ABc', 'bAC')\n",
        "G.add_edge('bAC', 'BAC')\n",
        "G.A_star('CAb','ABC',0)\n",
        "print(p)"
      ],
      "metadata": {
        "colab": {
          "base_uri": "https://localhost:8080/",
          "height": 372
        },
        "id": "zwacbPBpXDHP",
        "outputId": "b20a01e6-7a94-466e-8cd1-b373676d5006"
      },
      "execution_count": null,
      "outputs": [
        {
          "output_type": "error",
          "ename": "AttributeError",
          "evalue": "ignored",
          "traceback": [
            "\u001b[0;31m---------------------------------------------------------------------------\u001b[0m",
            "\u001b[0;31mAttributeError\u001b[0m                            Traceback (most recent call last)",
            "\u001b[0;32m<ipython-input-26-17bfd5302aa9>\u001b[0m in \u001b[0;36m<cell line: 81>\u001b[0;34m()\u001b[0m\n\u001b[1;32m     79\u001b[0m     \u001b[0;32mreturn\u001b[0m \u001b[0mhc\u001b[0m\u001b[0;34m\u001b[0m\u001b[0;34m\u001b[0m\u001b[0m\n\u001b[1;32m     80\u001b[0m \u001b[0mG\u001b[0m\u001b[0;34m=\u001b[0m\u001b[0mDGraph\u001b[0m\u001b[0;34m(\u001b[0m\u001b[0;34m)\u001b[0m\u001b[0;34m\u001b[0m\u001b[0;34m\u001b[0m\u001b[0m\n\u001b[0;32m---> 81\u001b[0;31m \u001b[0mG\u001b[0m\u001b[0;34m.\u001b[0m\u001b[0madd_node\u001b[0m\u001b[0;34m(\u001b[0m\u001b[0;34m'ACB'\u001b[0m\u001b[0;34m)\u001b[0m\u001b[0;34m\u001b[0m\u001b[0;34m\u001b[0m\u001b[0m\n\u001b[0m\u001b[1;32m     82\u001b[0m \u001b[0mG\u001b[0m\u001b[0;34m.\u001b[0m\u001b[0madd_node\u001b[0m\u001b[0;34m(\u001b[0m\u001b[0;34m'aCB'\u001b[0m\u001b[0;34m)\u001b[0m\u001b[0;34m\u001b[0m\u001b[0;34m\u001b[0m\u001b[0m\n\u001b[1;32m     83\u001b[0m \u001b[0mG\u001b[0m\u001b[0;34m.\u001b[0m\u001b[0madd_node\u001b[0m\u001b[0;34m(\u001b[0m\u001b[0;34m'BAC'\u001b[0m\u001b[0;34m)\u001b[0m\u001b[0;34m\u001b[0m\u001b[0;34m\u001b[0m\u001b[0m\n",
            "\u001b[0;32m<ipython-input-26-17bfd5302aa9>\u001b[0m in \u001b[0;36madd_node\u001b[0;34m(self, n)\u001b[0m\n\u001b[1;32m     14\u001b[0m \u001b[0;34m\u001b[0m\u001b[0m\n\u001b[1;32m     15\u001b[0m     \u001b[0;32mdef\u001b[0m \u001b[0madd_node\u001b[0m\u001b[0;34m(\u001b[0m\u001b[0mself\u001b[0m\u001b[0;34m,\u001b[0m \u001b[0mn\u001b[0m\u001b[0;34m)\u001b[0m\u001b[0;34m:\u001b[0m\u001b[0;34m\u001b[0m\u001b[0;34m\u001b[0m\u001b[0m\n\u001b[0;32m---> 16\u001b[0;31m         \u001b[0;32mif\u001b[0m \u001b[0mn\u001b[0m \u001b[0;32mnot\u001b[0m \u001b[0;32min\u001b[0m \u001b[0mself\u001b[0m\u001b[0;34m.\u001b[0m\u001b[0mnodes\u001b[0m\u001b[0;34m:\u001b[0m\u001b[0;34m\u001b[0m\u001b[0;34m\u001b[0m\u001b[0m\n\u001b[0m\u001b[1;32m     17\u001b[0m             \u001b[0mself\u001b[0m\u001b[0;34m.\u001b[0m\u001b[0mnodes\u001b[0m\u001b[0;34m.\u001b[0m\u001b[0mappend\u001b[0m\u001b[0;34m\u001b[0m\u001b[0;34m\u001b[0m\u001b[0m\n\u001b[1;32m     18\u001b[0m             \u001b[0mself\u001b[0m\u001b[0;34m.\u001b[0m\u001b[0madj\u001b[0m\u001b[0;34m[\u001b[0m\u001b[0mn\u001b[0m\u001b[0;34m]\u001b[0m \u001b[0;34m=\u001b[0m \u001b[0;34m[\u001b[0m\u001b[0;34m]\u001b[0m\u001b[0;34m\u001b[0m\u001b[0;34m\u001b[0m\u001b[0m\n",
            "\u001b[0;31mAttributeError\u001b[0m: 'DGraph' object has no attribute 'nodes'"
          ]
        }
      ]
    },
    {
      "cell_type": "code",
      "source": [
        "def dfs_iterative(node, graph):\n",
        "    visited = set()\n",
        "    if node not in graph:\n",
        "        return\n",
        "    stack = []\n",
        "    cost = 0\n",
        "    stack.append(node)\n",
        "    while stack:\n",
        "        current = stack.pop()\n",
        "        if current not in visited:\n",
        "            visited.add(current)\n",
        "            for neighbor, weight in graph[current].items():\n",
        "                cost += weight\n",
        "                stack.append(neighbor)\n",
        "    return visited, cost\n",
        "\n",
        "def iddfs(root, goal):\n",
        "    for depth in range(0, float('inf')):\n",
        "        found = dls(root, depth, goal)\n",
        "        if found is not None:\n",
        "            return found\n",
        "\n",
        "def dls(node, depth, goal):\n",
        "    if depth == 0 and node == goal:\n",
        "        return node\n",
        "    if depth > 0:\n",
        "        for neighbor in node:\n",
        "            found = dls(neighbor, depth - 1, goal)\n",
        "            if found is not None:\n",
        "                return found\n",
        "    return None\n",
        "\n",
        "graph = {\n",
        " 'start': {'Room A': 1, 'Room B': 5, 'Room C': 5},\n",
        " 'Room A': {'start': 0},\n",
        " 'Room B': {'start': 0},\n",
        " 'Room C': {'start': 0}\n",
        "}\n",
        "\n",
        "path, cost = dfs_iterative('Room A', graph)\n",
        "print(path)\n",
        "print(\"Total cost to clean the rooms is:\", cost)"
      ],
      "metadata": {
        "colab": {
          "base_uri": "https://localhost:8080/"
        },
        "id": "YlrJ3WmDUkcA",
        "outputId": "d88769ee-9acd-4fa4-aea2-3ddb17cc39ad"
      },
      "execution_count": null,
      "outputs": [
        {
          "output_type": "stream",
          "name": "stdout",
          "text": [
            "{'Room A', 'start', 'Room B', 'Room C'}\n",
            "Total cost to clean the rooms is: 11\n"
          ]
        }
      ]
    },
    {
      "cell_type": "code",
      "source": [
        "def clean_rooms(current_room, visited_rooms=[], total_cost=0):\n",
        "    # Service room is the starting point and is visited automatically\n",
        "    if current_room == \"Service Room\":\n",
        "        visited_rooms.append((current_room, 0))\n",
        "    \n",
        "    # Check if all rooms have been visited\n",
        "    if len(visited_rooms) == 7:\n",
        "        return visited_rooms, total_cost\n",
        "    \n",
        "    # Clean the current room and mark it as visited\n",
        "    cost = 0\n",
        "    if current_room != \"Service Room\":\n",
        "        cost = room_costs[current_room]\n",
        "    visited_rooms.append((current_room, cost))\n",
        "    total_cost += cost\n",
        "    \n",
        "    # Recursively clean each adjacent room if it has not been visited yet\n",
        "    for adjacent_room in [\"A\", \"B\", \"C\"]:\n",
        "        if adjacent_room not in [room[0] for room in visited_rooms]:\n",
        "            visited_rooms.append((\"Service Room\", 0))\n",
        "            clean_rooms(adjacent_room, visited_rooms, total_cost)\n",
        "    \n",
        "    # Return the list of visited rooms and total cost\n",
        "    return visited_rooms, total_cost\n",
        "\n",
        "\n",
        "room_costs = {\"A\": 5, \"B\": 10, \"C\": 15}\n",
        "visited_rooms, total_cost = clean_rooms(\"Service Room\")\n",
        "print(visited_rooms)\n",
        "print(\"Total cost:\", total_cost)\n",
        "\n",
        "\n"
      ],
      "metadata": {
        "colab": {
          "base_uri": "https://localhost:8080/"
        },
        "id": "wu_Y3KumVyU-",
        "outputId": "6aec6664-06bf-4cd1-a791-6e3f04f3f9c0"
      },
      "execution_count": null,
      "outputs": [
        {
          "output_type": "stream",
          "name": "stdout",
          "text": [
            "[('Service Room', 0), ('Service Room', 0), ('Service Room', 0), ('A', 5), ('Service Room', 0), ('B', 10), ('Service Room', 0), ('Service Room', 0), ('C', 15)]\n",
            "Total cost: 0\n"
          ]
        }
      ]
    },
    {
      "cell_type": "code",
      "source": [
        "import numpy as np\n",
        "sum=[]\n",
        "\n",
        "a=np.array([[1,2,4,5],[1,4,5,6],[1,2,3,4,2]])\n",
        "print(a[0][0])\n",
        "# for i in range(len(a)):\n",
        "#     for j in range(len(a[i])):\n",
        "#         sum=np.sum(a[i])\n",
        "#         print(a[i][j],end=\" \")\n",
        "# print(\"\",\"SUM IS : \",sum)\n"
      ],
      "metadata": {
        "colab": {
          "base_uri": "https://localhost:8080/"
        },
        "id": "w4zHrmWqQ4Z2",
        "outputId": "5bcb319d-055e-48b3-d03e-8cc131b15148"
      },
      "execution_count": null,
      "outputs": [
        {
          "output_type": "stream",
          "name": "stdout",
          "text": [
            "1\n"
          ]
        },
        {
          "output_type": "stream",
          "name": "stderr",
          "text": [
            "<ipython-input-74-c94c1e3f461f>:4: VisibleDeprecationWarning: Creating an ndarray from ragged nested sequences (which is a list-or-tuple of lists-or-tuples-or ndarrays with different lengths or shapes) is deprecated. If you meant to do this, you must specify 'dtype=object' when creating the ndarray.\n",
            "  a=np.array([[1,2,4,5],[1,4,5,6],[1,2,3,4,2]])\n"
          ]
        }
      ]
    },
    {
      "cell_type": "code",
      "source": [
        "import numpy as np\n",
        "\n",
        "# Creating a NumPy array\n",
        "my_array = np.array([1, 2, 3, 4, 5])\n",
        "\n",
        "# Accessing elements of the array\n",
        "print(my_array[0])  # Output: 1\n",
        "print(my_array[-1])  # Output: 5\n",
        "\n",
        "# Creating a 2D NumPy array\n",
        "my_2d_array = np.array([[1, 2, 3], [4, 5, 6]])\n",
        "\n",
        "# Accessing elements of a 2D array\n",
        "print(my_2d_array[0, 1])  # Output: 2\n",
        "print(my_2d_array[1, 2])  # Output: 6"
      ],
      "metadata": {
        "colab": {
          "base_uri": "https://localhost:8080/"
        },
        "id": "Cr1eVlaiSUlc",
        "outputId": "f776a15a-94f7-46c2-addb-6fab0b173388"
      },
      "execution_count": null,
      "outputs": [
        {
          "output_type": "stream",
          "name": "stdout",
          "text": [
            "1\n",
            "5\n",
            "2\n",
            "6\n"
          ]
        }
      ]
    },
    {
      "cell_type": "code",
      "source": [
        "import numpy as np\n",
        "a=np.array([[1,2,3,4],\n",
        "            [3,2,1,1]])\n",
        "\n",
        "c=np.array([1,2,3,4])\n",
        "b=np.array([6,5,3,2])\n",
        "\n",
        "np.reshape(c, (-1, 1))\n",
        "\n",
        "# a=np.append(a,[c],axis=0)\n",
        "\n",
        "\n",
        "\n",
        "# np.reshape(b, (-1, 1))\n",
        "\n",
        "aa=np.array([[1],\n",
        "       [2],\n",
        "       [3],\n",
        "       [4]])\n",
        "\n",
        "np.reshape(aa,(1,4))\n",
        "\n",
        "\n",
        "\n"
      ],
      "metadata": {
        "colab": {
          "base_uri": "https://localhost:8080/"
        },
        "id": "EnGZYR8CWPqM",
        "outputId": "db4b1131-5691-4e12-d663-e49fbe2218f5"
      },
      "execution_count": null,
      "outputs": [
        {
          "output_type": "execute_result",
          "data": {
            "text/plain": [
              "array([[1, 2, 3, 4]])"
            ]
          },
          "metadata": {},
          "execution_count": 44
        }
      ]
    },
    {
      "cell_type": "code",
      "source": [
        "import numpy as np\n",
        "a=np.array([[1,2,3,4],\n",
        "            [3,2,1,1]])\n",
        "a[:-1,:-1]\n"
      ],
      "metadata": {
        "colab": {
          "base_uri": "https://localhost:8080/"
        },
        "id": "irq564f3jbJt",
        "outputId": "73a002aa-5790-4b8a-c371-60ca54f1e10d"
      },
      "execution_count": null,
      "outputs": [
        {
          "output_type": "execute_result",
          "data": {
            "text/plain": [
              "array([[1, 2, 3]])"
            ]
          },
          "metadata": {},
          "execution_count": 61
        }
      ]
    },
    {
      "cell_type": "code",
      "source": [],
      "metadata": {
        "colab": {
          "base_uri": "https://localhost:8080/"
        },
        "id": "EFz-NMVBaUaO",
        "outputId": "0da23548-a71c-47ab-eeef-c52657520244"
      },
      "execution_count": null,
      "outputs": [
        {
          "output_type": "stream",
          "name": "stderr",
          "text": [
            "<ipython-input-54-6ea959e96181>:10: VisibleDeprecationWarning: Creating an ndarray from ragged nested sequences (which is a list-or-tuple of lists-or-tuples-or ndarrays with different lengths or shapes) is deprecated. If you meant to do this, you must specify 'dtype=object' when creating the ndarray.\n",
            "  array_3d = np.array([array1, array2])\n"
          ]
        }
      ]
    },
    {
      "cell_type": "code",
      "source": [
        "import numpy as np\n",
        "\n",
        "# Create a 2D NumPy array\n",
        "arr = np.array([[1, 2, 3],\n",
        "                [4, 5, 6]])\n",
        "\n",
        "# Append a row to the array\n",
        "new_row = np.array([7, 8, 9])\n",
        "arr = np.append(arr, [new_row], axis=0)\n",
        "\n",
        "# Append a column to the array\n",
        "new_column = np.array([10, 11])\n",
        "arr = np.append(arr, np.reshape(new_column, (-1, 1)), axis=1)\n",
        "\n",
        "print(\"Original array:\\n\", arr[:-1, :-1])\n",
        "print(\"Appended row:\\n\", arr[-1])\n",
        "print(\"Appended column:\\n\", arr[:, -1])\n"
      ],
      "metadata": {
        "id": "0s6WiMbnZ6zG",
        "colab": {
          "base_uri": "https://localhost:8080/",
          "height": 360
        },
        "outputId": "c4c841ff-6aeb-41f3-fbca-d82c4ee0b346"
      },
      "execution_count": null,
      "outputs": [
        {
          "output_type": "error",
          "ename": "ValueError",
          "evalue": "ignored",
          "traceback": [
            "\u001b[0;31m---------------------------------------------------------------------------\u001b[0m",
            "\u001b[0;31mValueError\u001b[0m                                Traceback (most recent call last)",
            "\u001b[0;32m<ipython-input-64-b263d8c573b3>\u001b[0m in \u001b[0;36m<cell line: 13>\u001b[0;34m()\u001b[0m\n\u001b[1;32m     11\u001b[0m \u001b[0;31m# Append a column to the array\u001b[0m\u001b[0;34m\u001b[0m\u001b[0;34m\u001b[0m\u001b[0m\n\u001b[1;32m     12\u001b[0m \u001b[0mnew_column\u001b[0m \u001b[0;34m=\u001b[0m \u001b[0mnp\u001b[0m\u001b[0;34m.\u001b[0m\u001b[0marray\u001b[0m\u001b[0;34m(\u001b[0m\u001b[0;34m[\u001b[0m\u001b[0;36m10\u001b[0m\u001b[0;34m,\u001b[0m \u001b[0;36m11\u001b[0m\u001b[0;34m]\u001b[0m\u001b[0;34m)\u001b[0m\u001b[0;34m\u001b[0m\u001b[0;34m\u001b[0m\u001b[0m\n\u001b[0;32m---> 13\u001b[0;31m \u001b[0marr\u001b[0m \u001b[0;34m=\u001b[0m \u001b[0mnp\u001b[0m\u001b[0;34m.\u001b[0m\u001b[0mappend\u001b[0m\u001b[0;34m(\u001b[0m\u001b[0marr\u001b[0m\u001b[0;34m,\u001b[0m \u001b[0mnp\u001b[0m\u001b[0;34m.\u001b[0m\u001b[0mreshape\u001b[0m\u001b[0;34m(\u001b[0m\u001b[0mnew_column\u001b[0m\u001b[0;34m,\u001b[0m \u001b[0;34m(\u001b[0m\u001b[0;34m-\u001b[0m\u001b[0;36m1\u001b[0m\u001b[0;34m,\u001b[0m \u001b[0;36m1\u001b[0m\u001b[0;34m)\u001b[0m\u001b[0;34m)\u001b[0m\u001b[0;34m,\u001b[0m \u001b[0maxis\u001b[0m\u001b[0;34m=\u001b[0m\u001b[0;36m1\u001b[0m\u001b[0;34m)\u001b[0m\u001b[0;34m\u001b[0m\u001b[0;34m\u001b[0m\u001b[0m\n\u001b[0m\u001b[1;32m     14\u001b[0m \u001b[0;34m\u001b[0m\u001b[0m\n\u001b[1;32m     15\u001b[0m \u001b[0mprint\u001b[0m\u001b[0;34m(\u001b[0m\u001b[0;34m\"Original array:\\n\"\u001b[0m\u001b[0;34m,\u001b[0m \u001b[0marr\u001b[0m\u001b[0;34m[\u001b[0m\u001b[0;34m:\u001b[0m\u001b[0;34m-\u001b[0m\u001b[0;36m1\u001b[0m\u001b[0;34m,\u001b[0m \u001b[0;34m:\u001b[0m\u001b[0;34m-\u001b[0m\u001b[0;36m1\u001b[0m\u001b[0;34m]\u001b[0m\u001b[0;34m)\u001b[0m\u001b[0;34m\u001b[0m\u001b[0;34m\u001b[0m\u001b[0m\n",
            "\u001b[0;32m/usr/local/lib/python3.9/dist-packages/numpy/core/overrides.py\u001b[0m in \u001b[0;36mappend\u001b[0;34m(*args, **kwargs)\u001b[0m\n",
            "\u001b[0;32m/usr/local/lib/python3.9/dist-packages/numpy/lib/function_base.py\u001b[0m in \u001b[0;36mappend\u001b[0;34m(arr, values, axis)\u001b[0m\n\u001b[1;32m   5390\u001b[0m         \u001b[0mvalues\u001b[0m \u001b[0;34m=\u001b[0m \u001b[0mravel\u001b[0m\u001b[0;34m(\u001b[0m\u001b[0mvalues\u001b[0m\u001b[0;34m)\u001b[0m\u001b[0;34m\u001b[0m\u001b[0;34m\u001b[0m\u001b[0m\n\u001b[1;32m   5391\u001b[0m         \u001b[0maxis\u001b[0m \u001b[0;34m=\u001b[0m \u001b[0marr\u001b[0m\u001b[0;34m.\u001b[0m\u001b[0mndim\u001b[0m\u001b[0;34m-\u001b[0m\u001b[0;36m1\u001b[0m\u001b[0;34m\u001b[0m\u001b[0;34m\u001b[0m\u001b[0m\n\u001b[0;32m-> 5392\u001b[0;31m     \u001b[0;32mreturn\u001b[0m \u001b[0mconcatenate\u001b[0m\u001b[0;34m(\u001b[0m\u001b[0;34m(\u001b[0m\u001b[0marr\u001b[0m\u001b[0;34m,\u001b[0m \u001b[0mvalues\u001b[0m\u001b[0;34m)\u001b[0m\u001b[0;34m,\u001b[0m \u001b[0maxis\u001b[0m\u001b[0;34m=\u001b[0m\u001b[0maxis\u001b[0m\u001b[0;34m)\u001b[0m\u001b[0;34m\u001b[0m\u001b[0;34m\u001b[0m\u001b[0m\n\u001b[0m\u001b[1;32m   5393\u001b[0m \u001b[0;34m\u001b[0m\u001b[0m\n\u001b[1;32m   5394\u001b[0m \u001b[0;34m\u001b[0m\u001b[0m\n",
            "\u001b[0;32m/usr/local/lib/python3.9/dist-packages/numpy/core/overrides.py\u001b[0m in \u001b[0;36mconcatenate\u001b[0;34m(*args, **kwargs)\u001b[0m\n",
            "\u001b[0;31mValueError\u001b[0m: all the input array dimensions for the concatenation axis must match exactly, but along dimension 0, the array at index 0 has size 3 and the array at index 1 has size 2"
          ]
        }
      ]
    },
    {
      "cell_type": "code",
      "source": [
        "\n",
        "import numpy as np\n",
        "import random\n",
        "from scipy import stats\n",
        "col=3\n",
        "row=4\n",
        "array1=np.random.randint(1,20,size=(row,col))\n",
        "print(np.mean(array1))\n",
        "print(np.median(array1))\n",
        "\n",
        "\n",
        "\n",
        "# import pandas as pd\n",
        "# import numpy as np\n",
        "# from scipy import stats as ss\n",
        "\n",
        "\n",
        "# arr=np.random.randint(1,122,size=(2,2))\n",
        "# print(np.mean(arr))\n",
        "# print(ss.mode(arr))\n",
        "# print(np.median(arr))\n",
        "\n",
        "# # col=3\n",
        "# # row=4\n",
        "# # array1=np.random.randint(1,20,size=(row,col))\n",
        "\n",
        "\n",
        "# # print(np.mean(array1))\n",
        "# # print(np.median(array1))\n",
        "# # print(stats.mode(array1))\n"
      ],
      "metadata": {
        "colab": {
          "base_uri": "https://localhost:8080/"
        },
        "id": "WHpGyq_8Krpb",
        "outputId": "09291f80-451e-4eee-dc10-44057523e451"
      },
      "execution_count": null,
      "outputs": [
        {
          "output_type": "stream",
          "name": "stdout",
          "text": [
            "8.25\n",
            "10.0\n"
          ]
        }
      ]
    },
    {
      "cell_type": "code",
      "source": [],
      "metadata": {
        "id": "orQ_i_7Q0Cvz"
      },
      "execution_count": null,
      "outputs": []
    }
  ]
}